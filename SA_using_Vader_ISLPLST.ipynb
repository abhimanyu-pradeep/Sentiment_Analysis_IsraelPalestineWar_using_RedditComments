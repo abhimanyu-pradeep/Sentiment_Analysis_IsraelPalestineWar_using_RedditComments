{
 "cells": [
  {
   "cell_type": "code",
   "execution_count": 2,
   "metadata": {},
   "outputs": [],
   "source": [
    "import pandas as pd\n",
    "from sklearn.feature_extraction.text import TfidfVectorizer\n",
    "from sklearn.cluster import KMeans\n",
    "from nltk.corpus import stopwords\n",
    "from nltk.tokenize import word_tokenize\n",
    "from sklearn.decomposition import PCA\n",
    "import matplotlib.pyplot as plt\n",
    "import re\n",
    "import numpy as np\n",
    "from bs4 import BeautifulSoup\n",
    "from nltk.stem import WordNetLemmatizer\n",
    "from nltk.sentiment.vader import SentimentIntensityAnalyzer\n",
    "import seaborn as sns\n",
    "from wordcloud import WordCloud,STOPWORDS\n",
    "from sklearn.decomposition import LatentDirichletAllocation"
   ]
  },
  {
   "cell_type": "code",
   "execution_count": 3,
   "metadata": {},
   "outputs": [],
   "source": [
    "df=pd.read_csv(r\"C:\\Users\\prade\\Projects ML\\Israel_palestine_SA\\pse_isr_reddit_comments.csv\\pse_isr_reddit_comments.csv\")"
   ]
  },
  {
   "cell_type": "code",
   "execution_count": 4,
   "metadata": {},
   "outputs": [
    {
     "data": {
      "text/html": [
       "<div>\n",
       "<style scoped>\n",
       "    .dataframe tbody tr th:only-of-type {\n",
       "        vertical-align: middle;\n",
       "    }\n",
       "\n",
       "    .dataframe tbody tr th {\n",
       "        vertical-align: top;\n",
       "    }\n",
       "\n",
       "    .dataframe thead th {\n",
       "        text-align: right;\n",
       "    }\n",
       "</style>\n",
       "<table border=\"1\" class=\"dataframe\">\n",
       "  <thead>\n",
       "    <tr style=\"text-align: right;\">\n",
       "      <th></th>\n",
       "      <th>comment_id</th>\n",
       "      <th>score</th>\n",
       "      <th>self_text</th>\n",
       "      <th>subreddit</th>\n",
       "      <th>created_time</th>\n",
       "    </tr>\n",
       "  </thead>\n",
       "  <tbody>\n",
       "    <tr>\n",
       "      <th>364253</th>\n",
       "      <td>k4d0e7j</td>\n",
       "      <td>70</td>\n",
       "      <td>&amp;gt;As someone who supports Palestinian self-d...</td>\n",
       "      <td>NonCredibleDefense</td>\n",
       "      <td>2023-10-11 01:47:56+00:00</td>\n",
       "    </tr>\n",
       "    <tr>\n",
       "      <th>178735</th>\n",
       "      <td>k5k7jr5</td>\n",
       "      <td>4</td>\n",
       "      <td>UFC fans and little to no reading comprehensio...</td>\n",
       "      <td>CrazyFuckingVideos</td>\n",
       "      <td>2023-10-19 16:00:19+00:00</td>\n",
       "    </tr>\n",
       "    <tr>\n",
       "      <th>416615</th>\n",
       "      <td>k3zf3xr</td>\n",
       "      <td>6</td>\n",
       "      <td>There is no circumstance where \"kill all Jews\"...</td>\n",
       "      <td>IsraelPalestine</td>\n",
       "      <td>2023-10-08 13:08:09+00:00</td>\n",
       "    </tr>\n",
       "    <tr>\n",
       "      <th>34563</th>\n",
       "      <td>k6r01b6</td>\n",
       "      <td>2</td>\n",
       "      <td>Channel 4 news is one outlet that's basically ...</td>\n",
       "      <td>IsraelPalestine</td>\n",
       "      <td>2023-10-27 23:17:57+00:00</td>\n",
       "    </tr>\n",
       "    <tr>\n",
       "      <th>409825</th>\n",
       "      <td>k4190mh</td>\n",
       "      <td>321</td>\n",
       "      <td>Well the kid gloves are really off. Looks like...</td>\n",
       "      <td>CombatFootage</td>\n",
       "      <td>2023-10-08 19:58:05+00:00</td>\n",
       "    </tr>\n",
       "  </tbody>\n",
       "</table>\n",
       "</div>"
      ],
      "text/plain": [
       "       comment_id  score                                          self_text  \\\n",
       "364253    k4d0e7j     70  &gt;As someone who supports Palestinian self-d...   \n",
       "178735    k5k7jr5      4  UFC fans and little to no reading comprehensio...   \n",
       "416615    k3zf3xr      6  There is no circumstance where \"kill all Jews\"...   \n",
       "34563     k6r01b6      2  Channel 4 news is one outlet that's basically ...   \n",
       "409825    k4190mh    321  Well the kid gloves are really off. Looks like...   \n",
       "\n",
       "                 subreddit               created_time  \n",
       "364253  NonCredibleDefense  2023-10-11 01:47:56+00:00  \n",
       "178735  CrazyFuckingVideos  2023-10-19 16:00:19+00:00  \n",
       "416615     IsraelPalestine  2023-10-08 13:08:09+00:00  \n",
       "34563      IsraelPalestine  2023-10-27 23:17:57+00:00  \n",
       "409825       CombatFootage  2023-10-08 19:58:05+00:00  "
      ]
     },
     "execution_count": 4,
     "metadata": {},
     "output_type": "execute_result"
    }
   ],
   "source": [
    "df.sample(5)"
   ]
  },
  {
   "cell_type": "code",
   "execution_count": 5,
   "metadata": {},
   "outputs": [
    {
     "data": {
      "text/plain": [
       "<bound method DataFrame.info of        comment_id  score                                          self_text  \\\n",
       "0         k70vrzb      1  Lol what kind of busted translator device you ...   \n",
       "1         k70vk4r      1  Translation:\\n\\nAmen. Kill jews and continue g...   \n",
       "2         k70vhew      1  Friendly fact reminder: Israel has been steali...   \n",
       "3         k70ve4h      1  Well, i would never support Hamas, but there a...   \n",
       "4         k70vay1      1  /u/TickeMeTendie. This is an automatic notice:...   \n",
       "...           ...    ...                                                ...   \n",
       "436720    k3sdwfc     42                               US. This is bullshit   \n",
       "436721    k3sdixt      1  I am in the United States and it has the dotte...   \n",
       "436722    k3sccp2     54  In which country are you?\\nSometimes maps adap...   \n",
       "436723    k3ritvj    116  You can't give up on something you only preten...   \n",
       "436724    k3riboh     30  &gt; The head of Islamic Jihad denounced Arab ...   \n",
       "\n",
       "              subreddit               created_time  \n",
       "0       IsraelPalestine  2023-10-29 23:59:03+00:00  \n",
       "1       IsraelPalestine  2023-10-29 23:57:29+00:00  \n",
       "2       IsraelPalestine  2023-10-29 23:56:58+00:00  \n",
       "3       IsraelPalestine  2023-10-29 23:56:18+00:00  \n",
       "4       IsraelPalestine  2023-10-29 23:55:42+00:00  \n",
       "...                 ...                        ...  \n",
       "436720        Palestine  2023-10-06 23:50:11+00:00  \n",
       "436721        Palestine  2023-10-06 23:47:23+00:00  \n",
       "436722        Palestine  2023-10-06 23:38:26+00:00  \n",
       "436723        worldnews  2023-10-06 20:16:05+00:00  \n",
       "436724        worldnews  2023-10-06 20:12:58+00:00  \n",
       "\n",
       "[436725 rows x 5 columns]>"
      ]
     },
     "execution_count": 5,
     "metadata": {},
     "output_type": "execute_result"
    }
   ],
   "source": [
    "df.info"
   ]
  },
  {
   "cell_type": "code",
   "execution_count": 6,
   "metadata": {},
   "outputs": [
    {
     "name": "stdout",
     "output_type": "stream",
     "text": [
      "Lol what kind of busted translator device you got. Does it speak only hasbara?\n",
      "Translation:\n",
      "\n",
      "Amen. Kill jews and continue gazan oppression!\n",
      "Friendly fact reminder: Israel has been stealing Palestines land, bombing their civilians, controlling their access to water/food and kidnapping Palestinian civilians for over 50 years. Israel has  been committing genocide on Palestine but somehow people like you like to place the blame on Palestine. If you think Hamas is bad, I have some bad news about the IDF for you.\n",
      "Well, i would never support Hamas, but there actions Israel could do that would make me stop supporting it: State orginized killing of Israeli or west bank Arabs or use of Atomic weaponary.\n",
      "/u/TickeMeTendie. This is an automatic notice: \n",
      "'Nazis' Casual comments and analogies are inflammatory and therefor not allowed.  \n",
      "We allow for exemptions for comments with meaningful information that must be based on historical facts accepted by mainstream historians. See [Rule 6](https://www.reddit.com/r/IsraelPalestine/wiki/rules/detailed-rules#wiki_6._nazi_comparisons) for details.  \n",
      "This bot flags comments using simple word detection, and cannot distinguish between acceptable and unacceptable usage. Please take a moment to review your comment to confirm that it is in compliance.\n",
      "\n",
      "\n",
      "*I am a bot, and this action was performed automatically. Please [contact the moderators of this subreddit](/message/compose/?to=/r/IsraelPalestine) if you have any questions or concerns.*\n",
      "There is absolutely evidence of Hamas taking Captagon - a drug similar to Pervitin, which the Nazis took - and it’s been reported by multiple outlets. \n",
      "\n",
      "https://www.businessinsider.com/hamas-militants-high-poor-mans-cocaine-oct-7-attacks-report-2023-10?amp\n",
      "\n",
      "https://nypost.com/2023/10/23/hamas-terrorists-were-high-on-poor-mans-cocaine-report/amp/\n",
      "Do you have the avtual link to the new york times? Because I looked at it and they said hamas didnt give them any evidance. All of of this is just lies\n",
      "I didn't deny anything you said.\n",
      "\n",
      "I said Israel doesn't use human shields and Gaza does. Which is a fact.\n",
      "\n",
      "You chose to change the subject to Israel having locals in Gaza deliver messages for them years ago. The behavior you're complaining about ceased.\n",
      "\n",
      "So what was the point of bringing it up when I said Israel doesn't use human shields and Gaza does? Just as a distraction?\n",
      "&gt;Yes, exactly, Hamas attacked, not the 1 million kids in Gaza. No amount of capslock or invoking of October 7th is gonna make murdering kids ok\n",
      "\n",
      "Which makes all of that Hamas's fault.  EVERY death since October 7th, by bullet, bomb, every single kid who dies, is Hamas's fault.\n",
      "\n",
      "That's why in the United States if you're part of a 3 person bank robbery, every person who dies is a murder that is on your hands.  Even the 2 other people who are with you, if they get shot by a security guard, that's a murder charge for you, because you're the one responsible for everything that happened as a result of you taking a gun into a bank to commit a robbery.\n",
      "\n",
      "The safety of every child in Gaza was Hama's responsibility, and they willingly put all of those lives in jeopardy when they attacked Israel.  So spare us all the equivocation and acting like all of this is suddenly some evil that the Israeli's are perpetrating on the innocents of Gaza ... Hamas could stop all of this at any moment if they wanted to, all they'd have to do is lay down their weapons, release their hostages, and surrender to be judged for their crimes on October 7th.\n",
      "\n",
      "If you want to complain about the innocent lives being lost in Gaza, complain to Hamas, because every death that has occurred in battle since October 7th has been Hamas's fault.\n",
      "Firstly, even in the best scenario you are confusing \"Gazans\" with \"Palestinians\", which is particularly disgusting since Israelis are doing unjustifiable attacks on West Bank Palestinians right now.\n",
      "\n",
      "Secondly, even if we knew that 99% of Gazans support Hamas, it would still be bad to think in this way, because it does not allow for even the possibility of peace without ethnic cleansing.\n"
     ]
    }
   ],
   "source": [
    "for i in range(10):\n",
    "    print(df.self_text[i])"
   ]
  },
  {
   "cell_type": "code",
   "execution_count": 7,
   "metadata": {},
   "outputs": [
    {
     "name": "stdout",
     "output_type": "stream",
     "text": [
      "File index.adv already exists. No need to unzip the archive.\n"
     ]
    }
   ],
   "source": [
    "import zipfile\n",
    "import os\n",
    "\n",
    "zip_file_path = 'C:\\\\Users\\\\prade\\\\AppData\\\\Roaming\\\\nltk_data\\\\corpora\\\\wordnet.zip'\n",
    "destination_directory = 'C:\\\\Users\\\\prade\\\\AppData\\\\Roaming\\\\nltk_data\\\\corpora'\n",
    "\n",
    "# Check if the specific file exists in the destination directory\n",
    "file_to_check = 'index.adv'\n",
    "file_path_to_check = os.path.join(destination_directory, 'wordnet', file_to_check)\n",
    "\n",
    "if not os.path.exists(file_path_to_check):\n",
    "    # Unzip the entire archive if the specific file doesn't exist\n",
    "    with zipfile.ZipFile(zip_file_path, 'r') as zip_ref:\n",
    "        zip_ref.extractall(destination_directory)\n",
    "    print(f\"Successfully unzipped {zip_file_path} to {destination_directory}\")\n",
    "else:\n",
    "    print(f\"File {file_to_check} already exists. No need to unzip the archive.\")"
   ]
  },
  {
   "cell_type": "code",
   "execution_count": 8,
   "metadata": {},
   "outputs": [
    {
     "name": "stderr",
     "output_type": "stream",
     "text": [
      "c:\\Users\\prade\\anaconda3\\lib\\site-packages\\bs4\\__init__.py:435: MarkupResemblesLocatorWarning: The input looks more like a filename than markup. You may want to open this file and pass the filehandle into Beautiful Soup.\n",
      "  warnings.warn(\n"
     ]
    }
   ],
   "source": [
    "lemmatizer=WordNetLemmatizer()\n",
    "stop_words=set(stopwords.words('english'))\n",
    "\n",
    "def clean_text(text):\n",
    "    text=re.sub(r'http\\S+', '',text)\n",
    "\n",
    "    soup=BeautifulSoup(text, 'html.parser')\n",
    "    text=soup.get_text()\n",
    "\n",
    "    text=re.sub(r'[^a-zA-Z0-9\\s]', '',text).lower()\n",
    "\n",
    "    tokens=word_tokenize(text)\n",
    "\n",
    "    tokens=[lemmatizer.lemmatize(token) for token in tokens if token not in stop_words]\n",
    "\n",
    "    cleaned_text=' '.join(tokens)\n",
    "\n",
    "    return cleaned_text\n",
    "\n",
    "df['clean_text']=df['self_text'].apply(clean_text)\n",
    "\n"
   ]
  },
  {
   "cell_type": "code",
   "execution_count": 9,
   "metadata": {},
   "outputs": [
    {
     "name": "stdout",
     "output_type": "stream",
     "text": [
      "lol kind busted translator device got speak hasbara\n",
      "translation amen kill jew continue gazan oppression\n",
      "friendly fact reminder israel stealing palestine land bombing civilian controlling access waterfood kidnapping palestinian civilian 50 year israel committing genocide palestine somehow people like like place blame palestine think hamas bad bad news idf\n",
      "well would never support hamas action israel could would make stop supporting state orginized killing israeli west bank arab use atomic weaponary\n",
      "utickemetendie automatic notice nazi casual comment analogy inflammatory therefor allowed allow exemption comment meaningful information must based historical fact accepted mainstream historian see rule 6 detail bot flag comment using simple word detection distinguish acceptable unacceptable usage please take moment review comment confirm compliance bot action performed automatically please contact moderator subredditmessagecomposetorisraelpalestine question concern\n",
      "absolutely evidence hamas taking captagon drug similar pervitin nazi took reported multiple outlet\n",
      "avtual link new york time looked said hamas didnt give evidance lie\n",
      "didnt deny anything said said israel doesnt use human shield gaza fact chose change subject israel local gaza deliver message year ago behavior youre complaining ceased point bringing said israel doesnt use human shield gaza distraction\n",
      "yes exactly hamas attacked 1 million kid gaza amount capslock invoking october 7th gon na make murdering kid ok make hamas fault every death since october 7th bullet bomb every single kid dy hamas fault thats united state youre part 3 person bank robbery every person dy murder hand even 2 people get shot security guard thats murder charge youre one responsible everything happened result taking gun bank commit robbery safety every child gaza hamas responsibility willingly put life jeopardy attacked israel spare u equivocation acting like suddenly evil israeli perpetrating innocent gaza hamas could stop moment wanted theyd lay weapon release hostage surrender judged crime october 7th want complain innocent life lost gaza complain hamas every death occurred battle since october 7th hamas fault\n",
      "firstly even best scenario confusing gazans palestinian particularly disgusting since israeli unjustifiable attack west bank palestinian right secondly even knew 99 gazans support hamas would still bad think way allow even possibility peace without ethnic cleansing\n"
     ]
    }
   ],
   "source": [
    "for i in range(10):\n",
    "    print(df.clean_text[i])"
   ]
  },
  {
   "cell_type": "code",
   "execution_count": 10,
   "metadata": {},
   "outputs": [
    {
     "name": "stdout",
     "output_type": "stream",
     "text": [
      "<class 'pandas.core.frame.DataFrame'>\n",
      "RangeIndex: 436725 entries, 0 to 436724\n",
      "Data columns (total 6 columns):\n",
      " #   Column        Non-Null Count   Dtype \n",
      "---  ------        --------------   ----- \n",
      " 0   comment_id    436725 non-null  object\n",
      " 1   score         436725 non-null  int64 \n",
      " 2   self_text     436725 non-null  object\n",
      " 3   subreddit     436725 non-null  object\n",
      " 4   created_time  436725 non-null  object\n",
      " 5   clean_text    436725 non-null  object\n",
      "dtypes: int64(1), object(5)\n",
      "memory usage: 20.0+ MB\n"
     ]
    }
   ],
   "source": [
    "df.info()"
   ]
  },
  {
   "cell_type": "markdown",
   "metadata": {},
   "source": [
    "SENTIMENT ANALYSIS USING VADER"
   ]
  },
  {
   "cell_type": "code",
   "execution_count": 11,
   "metadata": {},
   "outputs": [],
   "source": [
    "\n",
    "analyzer=SentimentIntensityAnalyzer()\n",
    "\n",
    "scores={\n",
    "    \"Compound\":[],\n",
    "    \"Positive\":[],\n",
    "    \"Negative\":[],\n",
    "    \"Neutral\":[]\n",
    "}\n",
    "\n",
    "#generating sentiment scores for reddit Comments\n",
    "\n",
    "for comment in df['clean_text']:\n",
    "    compound=analyzer.polarity_scores(comment)[\"compound\"]\n",
    "    pos=analyzer.polarity_scores(comment)[\"pos\"]\n",
    "    neu=analyzer.polarity_scores(comment)[\"neu\"]\n",
    "    neg=analyzer.polarity_scores(comment)[\"neg\"]\n",
    "\n",
    "    scores[\"Compound\"].append(compound)\n",
    "    scores[\"Positive\"].append(pos)\n",
    "    scores[\"Negative\"].append(neg)\n",
    "    scores[\"Neutral\"].append(neu)\n",
    "\n",
    "#creating new Dataframe for sentiment scores\n",
    "sentiment_score=pd.DataFrame(scores)\n",
    "\n",
    "#joining scores dataframe with original dataframe\n",
    "\n",
    "df=pd.concat([df,sentiment_score],axis=1)"
   ]
  },
  {
   "cell_type": "code",
   "execution_count": 12,
   "metadata": {},
   "outputs": [
    {
     "data": {
      "text/html": [
       "<div>\n",
       "<style scoped>\n",
       "    .dataframe tbody tr th:only-of-type {\n",
       "        vertical-align: middle;\n",
       "    }\n",
       "\n",
       "    .dataframe tbody tr th {\n",
       "        vertical-align: top;\n",
       "    }\n",
       "\n",
       "    .dataframe thead th {\n",
       "        text-align: right;\n",
       "    }\n",
       "</style>\n",
       "<table border=\"1\" class=\"dataframe\">\n",
       "  <thead>\n",
       "    <tr style=\"text-align: right;\">\n",
       "      <th></th>\n",
       "      <th>comment_id</th>\n",
       "      <th>score</th>\n",
       "      <th>self_text</th>\n",
       "      <th>subreddit</th>\n",
       "      <th>created_time</th>\n",
       "      <th>clean_text</th>\n",
       "      <th>Compound</th>\n",
       "      <th>Positive</th>\n",
       "      <th>Negative</th>\n",
       "      <th>Neutral</th>\n",
       "    </tr>\n",
       "  </thead>\n",
       "  <tbody>\n",
       "    <tr>\n",
       "      <th>0</th>\n",
       "      <td>k70vrzb</td>\n",
       "      <td>1</td>\n",
       "      <td>Lol what kind of busted translator device you ...</td>\n",
       "      <td>IsraelPalestine</td>\n",
       "      <td>2023-10-29 23:59:03+00:00</td>\n",
       "      <td>lol kind busted translator device got speak ha...</td>\n",
       "      <td>0.7351</td>\n",
       "      <td>0.508</td>\n",
       "      <td>0.000</td>\n",
       "      <td>0.492</td>\n",
       "    </tr>\n",
       "    <tr>\n",
       "      <th>1</th>\n",
       "      <td>k70vk4r</td>\n",
       "      <td>1</td>\n",
       "      <td>Translation:\\n\\nAmen. Kill jews and continue g...</td>\n",
       "      <td>IsraelPalestine</td>\n",
       "      <td>2023-10-29 23:57:29+00:00</td>\n",
       "      <td>translation amen kill jew continue gazan oppre...</td>\n",
       "      <td>-0.6908</td>\n",
       "      <td>0.000</td>\n",
       "      <td>0.439</td>\n",
       "      <td>0.561</td>\n",
       "    </tr>\n",
       "    <tr>\n",
       "      <th>2</th>\n",
       "      <td>k70vhew</td>\n",
       "      <td>1</td>\n",
       "      <td>Friendly fact reminder: Israel has been steali...</td>\n",
       "      <td>IsraelPalestine</td>\n",
       "      <td>2023-10-29 23:56:58+00:00</td>\n",
       "      <td>friendly fact reminder israel stealing palesti...</td>\n",
       "      <td>-0.6808</td>\n",
       "      <td>0.195</td>\n",
       "      <td>0.270</td>\n",
       "      <td>0.535</td>\n",
       "    </tr>\n",
       "    <tr>\n",
       "      <th>3</th>\n",
       "      <td>k70ve4h</td>\n",
       "      <td>1</td>\n",
       "      <td>Well, i would never support Hamas, but there a...</td>\n",
       "      <td>IsraelPalestine</td>\n",
       "      <td>2023-10-29 23:56:18+00:00</td>\n",
       "      <td>well would never support hamas action israel c...</td>\n",
       "      <td>-0.5938</td>\n",
       "      <td>0.162</td>\n",
       "      <td>0.287</td>\n",
       "      <td>0.551</td>\n",
       "    </tr>\n",
       "    <tr>\n",
       "      <th>4</th>\n",
       "      <td>k70vay1</td>\n",
       "      <td>1</td>\n",
       "      <td>/u/TickeMeTendie. This is an automatic notice:...</td>\n",
       "      <td>IsraelPalestine</td>\n",
       "      <td>2023-10-29 23:55:42+00:00</td>\n",
       "      <td>utickemetendie automatic notice nazi casual co...</td>\n",
       "      <td>0.8402</td>\n",
       "      <td>0.238</td>\n",
       "      <td>0.048</td>\n",
       "      <td>0.714</td>\n",
       "    </tr>\n",
       "  </tbody>\n",
       "</table>\n",
       "</div>"
      ],
      "text/plain": [
       "  comment_id  score                                          self_text  \\\n",
       "0    k70vrzb      1  Lol what kind of busted translator device you ...   \n",
       "1    k70vk4r      1  Translation:\\n\\nAmen. Kill jews and continue g...   \n",
       "2    k70vhew      1  Friendly fact reminder: Israel has been steali...   \n",
       "3    k70ve4h      1  Well, i would never support Hamas, but there a...   \n",
       "4    k70vay1      1  /u/TickeMeTendie. This is an automatic notice:...   \n",
       "\n",
       "         subreddit               created_time  \\\n",
       "0  IsraelPalestine  2023-10-29 23:59:03+00:00   \n",
       "1  IsraelPalestine  2023-10-29 23:57:29+00:00   \n",
       "2  IsraelPalestine  2023-10-29 23:56:58+00:00   \n",
       "3  IsraelPalestine  2023-10-29 23:56:18+00:00   \n",
       "4  IsraelPalestine  2023-10-29 23:55:42+00:00   \n",
       "\n",
       "                                          clean_text  Compound  Positive  \\\n",
       "0  lol kind busted translator device got speak ha...    0.7351     0.508   \n",
       "1  translation amen kill jew continue gazan oppre...   -0.6908     0.000   \n",
       "2  friendly fact reminder israel stealing palesti...   -0.6808     0.195   \n",
       "3  well would never support hamas action israel c...   -0.5938     0.162   \n",
       "4  utickemetendie automatic notice nazi casual co...    0.8402     0.238   \n",
       "\n",
       "   Negative  Neutral  \n",
       "0     0.000    0.492  \n",
       "1     0.439    0.561  \n",
       "2     0.270    0.535  \n",
       "3     0.287    0.551  \n",
       "4     0.048    0.714  "
      ]
     },
     "execution_count": 12,
     "metadata": {},
     "output_type": "execute_result"
    }
   ],
   "source": [
    "df.head()"
   ]
  },
  {
   "cell_type": "code",
   "execution_count": 13,
   "metadata": {},
   "outputs": [],
   "source": [
    "#defining conditions for sentiment categories based on 'compound' scores\n",
    "\n",
    "#if comp score <=-0.5 classify as \"negative\"\n",
    "#if comp score >-0.5 and <0.5 classify as \"neutral\"\n",
    "#if comp score >=0.5 classify as \"positive\"\n",
    "\n",
    "conditons=[\n",
    "    (df['Compound']<= -0.5),\n",
    "    (df['Compound']> -0.5) & (df['Compound']< 0.5),\n",
    "    (df['Compound']> 0.5)\n",
    "]\n",
    "\n",
    "#defining corresponding values for eaach condition\n",
    "\n",
    "values=['Negative','Neutral','Positive']\n",
    "\n",
    "#creating new column 'Category' to assign values based on conditions\n",
    "df['Category']=np.select(conditons,values)"
   ]
  },
  {
   "cell_type": "code",
   "execution_count": 14,
   "metadata": {},
   "outputs": [
    {
     "data": {
      "text/html": [
       "<div>\n",
       "<style scoped>\n",
       "    .dataframe tbody tr th:only-of-type {\n",
       "        vertical-align: middle;\n",
       "    }\n",
       "\n",
       "    .dataframe tbody tr th {\n",
       "        vertical-align: top;\n",
       "    }\n",
       "\n",
       "    .dataframe thead th {\n",
       "        text-align: right;\n",
       "    }\n",
       "</style>\n",
       "<table border=\"1\" class=\"dataframe\">\n",
       "  <thead>\n",
       "    <tr style=\"text-align: right;\">\n",
       "      <th></th>\n",
       "      <th>comment_id</th>\n",
       "      <th>score</th>\n",
       "      <th>self_text</th>\n",
       "      <th>subreddit</th>\n",
       "      <th>created_time</th>\n",
       "      <th>clean_text</th>\n",
       "      <th>Compound</th>\n",
       "      <th>Positive</th>\n",
       "      <th>Negative</th>\n",
       "      <th>Neutral</th>\n",
       "      <th>Category</th>\n",
       "    </tr>\n",
       "  </thead>\n",
       "  <tbody>\n",
       "    <tr>\n",
       "      <th>0</th>\n",
       "      <td>k70vrzb</td>\n",
       "      <td>1</td>\n",
       "      <td>Lol what kind of busted translator device you ...</td>\n",
       "      <td>IsraelPalestine</td>\n",
       "      <td>2023-10-29 23:59:03+00:00</td>\n",
       "      <td>lol kind busted translator device got speak ha...</td>\n",
       "      <td>0.7351</td>\n",
       "      <td>0.508</td>\n",
       "      <td>0.000</td>\n",
       "      <td>0.492</td>\n",
       "      <td>Positive</td>\n",
       "    </tr>\n",
       "    <tr>\n",
       "      <th>1</th>\n",
       "      <td>k70vk4r</td>\n",
       "      <td>1</td>\n",
       "      <td>Translation:\\n\\nAmen. Kill jews and continue g...</td>\n",
       "      <td>IsraelPalestine</td>\n",
       "      <td>2023-10-29 23:57:29+00:00</td>\n",
       "      <td>translation amen kill jew continue gazan oppre...</td>\n",
       "      <td>-0.6908</td>\n",
       "      <td>0.000</td>\n",
       "      <td>0.439</td>\n",
       "      <td>0.561</td>\n",
       "      <td>Negative</td>\n",
       "    </tr>\n",
       "    <tr>\n",
       "      <th>2</th>\n",
       "      <td>k70vhew</td>\n",
       "      <td>1</td>\n",
       "      <td>Friendly fact reminder: Israel has been steali...</td>\n",
       "      <td>IsraelPalestine</td>\n",
       "      <td>2023-10-29 23:56:58+00:00</td>\n",
       "      <td>friendly fact reminder israel stealing palesti...</td>\n",
       "      <td>-0.6808</td>\n",
       "      <td>0.195</td>\n",
       "      <td>0.270</td>\n",
       "      <td>0.535</td>\n",
       "      <td>Negative</td>\n",
       "    </tr>\n",
       "    <tr>\n",
       "      <th>3</th>\n",
       "      <td>k70ve4h</td>\n",
       "      <td>1</td>\n",
       "      <td>Well, i would never support Hamas, but there a...</td>\n",
       "      <td>IsraelPalestine</td>\n",
       "      <td>2023-10-29 23:56:18+00:00</td>\n",
       "      <td>well would never support hamas action israel c...</td>\n",
       "      <td>-0.5938</td>\n",
       "      <td>0.162</td>\n",
       "      <td>0.287</td>\n",
       "      <td>0.551</td>\n",
       "      <td>Negative</td>\n",
       "    </tr>\n",
       "    <tr>\n",
       "      <th>4</th>\n",
       "      <td>k70vay1</td>\n",
       "      <td>1</td>\n",
       "      <td>/u/TickeMeTendie. This is an automatic notice:...</td>\n",
       "      <td>IsraelPalestine</td>\n",
       "      <td>2023-10-29 23:55:42+00:00</td>\n",
       "      <td>utickemetendie automatic notice nazi casual co...</td>\n",
       "      <td>0.8402</td>\n",
       "      <td>0.238</td>\n",
       "      <td>0.048</td>\n",
       "      <td>0.714</td>\n",
       "      <td>Positive</td>\n",
       "    </tr>\n",
       "  </tbody>\n",
       "</table>\n",
       "</div>"
      ],
      "text/plain": [
       "  comment_id  score                                          self_text  \\\n",
       "0    k70vrzb      1  Lol what kind of busted translator device you ...   \n",
       "1    k70vk4r      1  Translation:\\n\\nAmen. Kill jews and continue g...   \n",
       "2    k70vhew      1  Friendly fact reminder: Israel has been steali...   \n",
       "3    k70ve4h      1  Well, i would never support Hamas, but there a...   \n",
       "4    k70vay1      1  /u/TickeMeTendie. This is an automatic notice:...   \n",
       "\n",
       "         subreddit               created_time  \\\n",
       "0  IsraelPalestine  2023-10-29 23:59:03+00:00   \n",
       "1  IsraelPalestine  2023-10-29 23:57:29+00:00   \n",
       "2  IsraelPalestine  2023-10-29 23:56:58+00:00   \n",
       "3  IsraelPalestine  2023-10-29 23:56:18+00:00   \n",
       "4  IsraelPalestine  2023-10-29 23:55:42+00:00   \n",
       "\n",
       "                                          clean_text  Compound  Positive  \\\n",
       "0  lol kind busted translator device got speak ha...    0.7351     0.508   \n",
       "1  translation amen kill jew continue gazan oppre...   -0.6908     0.000   \n",
       "2  friendly fact reminder israel stealing palesti...   -0.6808     0.195   \n",
       "3  well would never support hamas action israel c...   -0.5938     0.162   \n",
       "4  utickemetendie automatic notice nazi casual co...    0.8402     0.238   \n",
       "\n",
       "   Negative  Neutral  Category  \n",
       "0     0.000    0.492  Positive  \n",
       "1     0.439    0.561  Negative  \n",
       "2     0.270    0.535  Negative  \n",
       "3     0.287    0.551  Negative  \n",
       "4     0.048    0.714  Positive  "
      ]
     },
     "execution_count": 14,
     "metadata": {},
     "output_type": "execute_result"
    }
   ],
   "source": [
    "df.head()"
   ]
  },
  {
   "cell_type": "markdown",
   "metadata": {},
   "source": [
    "EXPLORATORY DATA ANALYSIS"
   ]
  },
  {
   "cell_type": "code",
   "execution_count": 15,
   "metadata": {},
   "outputs": [
    {
     "name": "stdout",
     "output_type": "stream",
     "text": [
      "          Counts  Percentage\n",
      "Category                    \n",
      "Negative  123092   28.185242\n",
      "Neutral   247471   56.665178\n",
      "Positive   66146   15.145916\n"
     ]
    }
   ],
   "source": [
    "#grouping dataframe by catgory and counting occurences of each category\n",
    "\n",
    "category_counts=df.groupby(['Category'])['Category'].count()\n",
    "\n",
    "#creating dataframe with counts and renaming column to 'counts'ArithmeticError\n",
    "counts_df=pd.DataFrame(category_counts).rename(columns={\"Category\":\"Counts\"})\n",
    "\n",
    "#calculating percentag for each category and add it as a new column 'percentage'\n",
    "counts_df['Percentage']=(counts_df['Counts']/counts_df['Counts'].sum())*100\n",
    "\n",
    "counts_df=counts_df.drop(index='0')\n",
    "\n",
    "#returning summary Dataframe\n",
    "print(counts_df)"
   ]
  },
  {
   "cell_type": "code",
   "execution_count": 16,
   "metadata": {},
   "outputs": [
    {
     "data": {
      "text/html": [
       "<div>\n",
       "<style scoped>\n",
       "    .dataframe tbody tr th:only-of-type {\n",
       "        vertical-align: middle;\n",
       "    }\n",
       "\n",
       "    .dataframe tbody tr th {\n",
       "        vertical-align: top;\n",
       "    }\n",
       "\n",
       "    .dataframe thead th {\n",
       "        text-align: right;\n",
       "    }\n",
       "</style>\n",
       "<table border=\"1\" class=\"dataframe\">\n",
       "  <thead>\n",
       "    <tr style=\"text-align: right;\">\n",
       "      <th></th>\n",
       "      <th>Counts</th>\n",
       "      <th>Percentage</th>\n",
       "    </tr>\n",
       "    <tr>\n",
       "      <th>Category</th>\n",
       "      <th></th>\n",
       "      <th></th>\n",
       "    </tr>\n",
       "  </thead>\n",
       "  <tbody>\n",
       "    <tr>\n",
       "      <th>Negative</th>\n",
       "      <td>123092</td>\n",
       "      <td>28.185242</td>\n",
       "    </tr>\n",
       "    <tr>\n",
       "      <th>Neutral</th>\n",
       "      <td>247471</td>\n",
       "      <td>56.665178</td>\n",
       "    </tr>\n",
       "    <tr>\n",
       "      <th>Positive</th>\n",
       "      <td>66146</td>\n",
       "      <td>15.145916</td>\n",
       "    </tr>\n",
       "  </tbody>\n",
       "</table>\n",
       "</div>"
      ],
      "text/plain": [
       "          Counts  Percentage\n",
       "Category                    \n",
       "Negative  123092   28.185242\n",
       "Neutral   247471   56.665178\n",
       "Positive   66146   15.145916"
      ]
     },
     "execution_count": 16,
     "metadata": {},
     "output_type": "execute_result"
    }
   ],
   "source": [
    "counts_df"
   ]
  },
  {
   "cell_type": "markdown",
   "metadata": {},
   "source": [
    "PIE CHART OF SENTIMENT COUNTS"
   ]
  },
  {
   "cell_type": "code",
   "execution_count": 17,
   "metadata": {},
   "outputs": [
    {
     "data": {
      "application/vnd.plotly.v1+json": {
       "config": {
        "plotlyServerURL": "https://plot.ly"
       },
       "data": [
        {
         "domain": {
          "x": [
           0,
           1
          ],
          "y": [
           0,
           1
          ]
         },
         "hole": 0.3,
         "hovertemplate": "Sentiment Category=%{label}<br>Count=%{value}<extra></extra>",
         "labels": [
          "Negative",
          "Neutral",
          "Positive"
         ],
         "legendgroup": "",
         "name": "",
         "showlegend": true,
         "type": "pie",
         "values": [
          123092,
          247471,
          66146
         ]
        }
       ],
       "layout": {
        "legend": {
         "tracegroupgap": 0
        },
        "paper_bgcolor": "darkgrey",
        "piecolorway": [
         "rgb(228,26,28)",
         "rgb(55,126,184)",
         "rgb(77,175,74)",
         "rgb(152,78,163)",
         "rgb(255,127,0)",
         "rgb(255,255,51)",
         "rgb(166,86,40)",
         "rgb(247,129,191)",
         "rgb(153,153,153)"
        ],
        "template": {
         "data": {
          "bar": [
           {
            "error_x": {
             "color": "#2a3f5f"
            },
            "error_y": {
             "color": "#2a3f5f"
            },
            "marker": {
             "line": {
              "color": "#E5ECF6",
              "width": 0.5
             },
             "pattern": {
              "fillmode": "overlay",
              "size": 10,
              "solidity": 0.2
             }
            },
            "type": "bar"
           }
          ],
          "barpolar": [
           {
            "marker": {
             "line": {
              "color": "#E5ECF6",
              "width": 0.5
             },
             "pattern": {
              "fillmode": "overlay",
              "size": 10,
              "solidity": 0.2
             }
            },
            "type": "barpolar"
           }
          ],
          "carpet": [
           {
            "aaxis": {
             "endlinecolor": "#2a3f5f",
             "gridcolor": "white",
             "linecolor": "white",
             "minorgridcolor": "white",
             "startlinecolor": "#2a3f5f"
            },
            "baxis": {
             "endlinecolor": "#2a3f5f",
             "gridcolor": "white",
             "linecolor": "white",
             "minorgridcolor": "white",
             "startlinecolor": "#2a3f5f"
            },
            "type": "carpet"
           }
          ],
          "choropleth": [
           {
            "colorbar": {
             "outlinewidth": 0,
             "ticks": ""
            },
            "type": "choropleth"
           }
          ],
          "contour": [
           {
            "colorbar": {
             "outlinewidth": 0,
             "ticks": ""
            },
            "colorscale": [
             [
              0,
              "#0d0887"
             ],
             [
              0.1111111111111111,
              "#46039f"
             ],
             [
              0.2222222222222222,
              "#7201a8"
             ],
             [
              0.3333333333333333,
              "#9c179e"
             ],
             [
              0.4444444444444444,
              "#bd3786"
             ],
             [
              0.5555555555555556,
              "#d8576b"
             ],
             [
              0.6666666666666666,
              "#ed7953"
             ],
             [
              0.7777777777777778,
              "#fb9f3a"
             ],
             [
              0.8888888888888888,
              "#fdca26"
             ],
             [
              1,
              "#f0f921"
             ]
            ],
            "type": "contour"
           }
          ],
          "contourcarpet": [
           {
            "colorbar": {
             "outlinewidth": 0,
             "ticks": ""
            },
            "type": "contourcarpet"
           }
          ],
          "heatmap": [
           {
            "colorbar": {
             "outlinewidth": 0,
             "ticks": ""
            },
            "colorscale": [
             [
              0,
              "#0d0887"
             ],
             [
              0.1111111111111111,
              "#46039f"
             ],
             [
              0.2222222222222222,
              "#7201a8"
             ],
             [
              0.3333333333333333,
              "#9c179e"
             ],
             [
              0.4444444444444444,
              "#bd3786"
             ],
             [
              0.5555555555555556,
              "#d8576b"
             ],
             [
              0.6666666666666666,
              "#ed7953"
             ],
             [
              0.7777777777777778,
              "#fb9f3a"
             ],
             [
              0.8888888888888888,
              "#fdca26"
             ],
             [
              1,
              "#f0f921"
             ]
            ],
            "type": "heatmap"
           }
          ],
          "heatmapgl": [
           {
            "colorbar": {
             "outlinewidth": 0,
             "ticks": ""
            },
            "colorscale": [
             [
              0,
              "#0d0887"
             ],
             [
              0.1111111111111111,
              "#46039f"
             ],
             [
              0.2222222222222222,
              "#7201a8"
             ],
             [
              0.3333333333333333,
              "#9c179e"
             ],
             [
              0.4444444444444444,
              "#bd3786"
             ],
             [
              0.5555555555555556,
              "#d8576b"
             ],
             [
              0.6666666666666666,
              "#ed7953"
             ],
             [
              0.7777777777777778,
              "#fb9f3a"
             ],
             [
              0.8888888888888888,
              "#fdca26"
             ],
             [
              1,
              "#f0f921"
             ]
            ],
            "type": "heatmapgl"
           }
          ],
          "histogram": [
           {
            "marker": {
             "pattern": {
              "fillmode": "overlay",
              "size": 10,
              "solidity": 0.2
             }
            },
            "type": "histogram"
           }
          ],
          "histogram2d": [
           {
            "colorbar": {
             "outlinewidth": 0,
             "ticks": ""
            },
            "colorscale": [
             [
              0,
              "#0d0887"
             ],
             [
              0.1111111111111111,
              "#46039f"
             ],
             [
              0.2222222222222222,
              "#7201a8"
             ],
             [
              0.3333333333333333,
              "#9c179e"
             ],
             [
              0.4444444444444444,
              "#bd3786"
             ],
             [
              0.5555555555555556,
              "#d8576b"
             ],
             [
              0.6666666666666666,
              "#ed7953"
             ],
             [
              0.7777777777777778,
              "#fb9f3a"
             ],
             [
              0.8888888888888888,
              "#fdca26"
             ],
             [
              1,
              "#f0f921"
             ]
            ],
            "type": "histogram2d"
           }
          ],
          "histogram2dcontour": [
           {
            "colorbar": {
             "outlinewidth": 0,
             "ticks": ""
            },
            "colorscale": [
             [
              0,
              "#0d0887"
             ],
             [
              0.1111111111111111,
              "#46039f"
             ],
             [
              0.2222222222222222,
              "#7201a8"
             ],
             [
              0.3333333333333333,
              "#9c179e"
             ],
             [
              0.4444444444444444,
              "#bd3786"
             ],
             [
              0.5555555555555556,
              "#d8576b"
             ],
             [
              0.6666666666666666,
              "#ed7953"
             ],
             [
              0.7777777777777778,
              "#fb9f3a"
             ],
             [
              0.8888888888888888,
              "#fdca26"
             ],
             [
              1,
              "#f0f921"
             ]
            ],
            "type": "histogram2dcontour"
           }
          ],
          "mesh3d": [
           {
            "colorbar": {
             "outlinewidth": 0,
             "ticks": ""
            },
            "type": "mesh3d"
           }
          ],
          "parcoords": [
           {
            "line": {
             "colorbar": {
              "outlinewidth": 0,
              "ticks": ""
             }
            },
            "type": "parcoords"
           }
          ],
          "pie": [
           {
            "automargin": true,
            "type": "pie"
           }
          ],
          "scatter": [
           {
            "fillpattern": {
             "fillmode": "overlay",
             "size": 10,
             "solidity": 0.2
            },
            "type": "scatter"
           }
          ],
          "scatter3d": [
           {
            "line": {
             "colorbar": {
              "outlinewidth": 0,
              "ticks": ""
             }
            },
            "marker": {
             "colorbar": {
              "outlinewidth": 0,
              "ticks": ""
             }
            },
            "type": "scatter3d"
           }
          ],
          "scattercarpet": [
           {
            "marker": {
             "colorbar": {
              "outlinewidth": 0,
              "ticks": ""
             }
            },
            "type": "scattercarpet"
           }
          ],
          "scattergeo": [
           {
            "marker": {
             "colorbar": {
              "outlinewidth": 0,
              "ticks": ""
             }
            },
            "type": "scattergeo"
           }
          ],
          "scattergl": [
           {
            "marker": {
             "colorbar": {
              "outlinewidth": 0,
              "ticks": ""
             }
            },
            "type": "scattergl"
           }
          ],
          "scattermapbox": [
           {
            "marker": {
             "colorbar": {
              "outlinewidth": 0,
              "ticks": ""
             }
            },
            "type": "scattermapbox"
           }
          ],
          "scatterpolar": [
           {
            "marker": {
             "colorbar": {
              "outlinewidth": 0,
              "ticks": ""
             }
            },
            "type": "scatterpolar"
           }
          ],
          "scatterpolargl": [
           {
            "marker": {
             "colorbar": {
              "outlinewidth": 0,
              "ticks": ""
             }
            },
            "type": "scatterpolargl"
           }
          ],
          "scatterternary": [
           {
            "marker": {
             "colorbar": {
              "outlinewidth": 0,
              "ticks": ""
             }
            },
            "type": "scatterternary"
           }
          ],
          "surface": [
           {
            "colorbar": {
             "outlinewidth": 0,
             "ticks": ""
            },
            "colorscale": [
             [
              0,
              "#0d0887"
             ],
             [
              0.1111111111111111,
              "#46039f"
             ],
             [
              0.2222222222222222,
              "#7201a8"
             ],
             [
              0.3333333333333333,
              "#9c179e"
             ],
             [
              0.4444444444444444,
              "#bd3786"
             ],
             [
              0.5555555555555556,
              "#d8576b"
             ],
             [
              0.6666666666666666,
              "#ed7953"
             ],
             [
              0.7777777777777778,
              "#fb9f3a"
             ],
             [
              0.8888888888888888,
              "#fdca26"
             ],
             [
              1,
              "#f0f921"
             ]
            ],
            "type": "surface"
           }
          ],
          "table": [
           {
            "cells": {
             "fill": {
              "color": "#EBF0F8"
             },
             "line": {
              "color": "white"
             }
            },
            "header": {
             "fill": {
              "color": "#C8D4E3"
             },
             "line": {
              "color": "white"
             }
            },
            "type": "table"
           }
          ]
         },
         "layout": {
          "annotationdefaults": {
           "arrowcolor": "#2a3f5f",
           "arrowhead": 0,
           "arrowwidth": 1
          },
          "autotypenumbers": "strict",
          "coloraxis": {
           "colorbar": {
            "outlinewidth": 0,
            "ticks": ""
           }
          },
          "colorscale": {
           "diverging": [
            [
             0,
             "#8e0152"
            ],
            [
             0.1,
             "#c51b7d"
            ],
            [
             0.2,
             "#de77ae"
            ],
            [
             0.3,
             "#f1b6da"
            ],
            [
             0.4,
             "#fde0ef"
            ],
            [
             0.5,
             "#f7f7f7"
            ],
            [
             0.6,
             "#e6f5d0"
            ],
            [
             0.7,
             "#b8e186"
            ],
            [
             0.8,
             "#7fbc41"
            ],
            [
             0.9,
             "#4d9221"
            ],
            [
             1,
             "#276419"
            ]
           ],
           "sequential": [
            [
             0,
             "#0d0887"
            ],
            [
             0.1111111111111111,
             "#46039f"
            ],
            [
             0.2222222222222222,
             "#7201a8"
            ],
            [
             0.3333333333333333,
             "#9c179e"
            ],
            [
             0.4444444444444444,
             "#bd3786"
            ],
            [
             0.5555555555555556,
             "#d8576b"
            ],
            [
             0.6666666666666666,
             "#ed7953"
            ],
            [
             0.7777777777777778,
             "#fb9f3a"
            ],
            [
             0.8888888888888888,
             "#fdca26"
            ],
            [
             1,
             "#f0f921"
            ]
           ],
           "sequentialminus": [
            [
             0,
             "#0d0887"
            ],
            [
             0.1111111111111111,
             "#46039f"
            ],
            [
             0.2222222222222222,
             "#7201a8"
            ],
            [
             0.3333333333333333,
             "#9c179e"
            ],
            [
             0.4444444444444444,
             "#bd3786"
            ],
            [
             0.5555555555555556,
             "#d8576b"
            ],
            [
             0.6666666666666666,
             "#ed7953"
            ],
            [
             0.7777777777777778,
             "#fb9f3a"
            ],
            [
             0.8888888888888888,
             "#fdca26"
            ],
            [
             1,
             "#f0f921"
            ]
           ]
          },
          "colorway": [
           "#636efa",
           "#EF553B",
           "#00cc96",
           "#ab63fa",
           "#FFA15A",
           "#19d3f3",
           "#FF6692",
           "#B6E880",
           "#FF97FF",
           "#FECB52"
          ],
          "font": {
           "color": "#2a3f5f"
          },
          "geo": {
           "bgcolor": "white",
           "lakecolor": "white",
           "landcolor": "#E5ECF6",
           "showlakes": true,
           "showland": true,
           "subunitcolor": "white"
          },
          "hoverlabel": {
           "align": "left"
          },
          "hovermode": "closest",
          "mapbox": {
           "style": "light"
          },
          "paper_bgcolor": "white",
          "plot_bgcolor": "#E5ECF6",
          "polar": {
           "angularaxis": {
            "gridcolor": "white",
            "linecolor": "white",
            "ticks": ""
           },
           "bgcolor": "#E5ECF6",
           "radialaxis": {
            "gridcolor": "white",
            "linecolor": "white",
            "ticks": ""
           }
          },
          "scene": {
           "xaxis": {
            "backgroundcolor": "#E5ECF6",
            "gridcolor": "white",
            "gridwidth": 2,
            "linecolor": "white",
            "showbackground": true,
            "ticks": "",
            "zerolinecolor": "white"
           },
           "yaxis": {
            "backgroundcolor": "#E5ECF6",
            "gridcolor": "white",
            "gridwidth": 2,
            "linecolor": "white",
            "showbackground": true,
            "ticks": "",
            "zerolinecolor": "white"
           },
           "zaxis": {
            "backgroundcolor": "#E5ECF6",
            "gridcolor": "white",
            "gridwidth": 2,
            "linecolor": "white",
            "showbackground": true,
            "ticks": "",
            "zerolinecolor": "white"
           }
          },
          "shapedefaults": {
           "line": {
            "color": "#2a3f5f"
           }
          },
          "ternary": {
           "aaxis": {
            "gridcolor": "white",
            "linecolor": "white",
            "ticks": ""
           },
           "baxis": {
            "gridcolor": "white",
            "linecolor": "white",
            "ticks": ""
           },
           "bgcolor": "#E5ECF6",
           "caxis": {
            "gridcolor": "white",
            "linecolor": "white",
            "ticks": ""
           }
          },
          "title": {
           "x": 0.05
          },
          "xaxis": {
           "automargin": true,
           "gridcolor": "white",
           "linecolor": "white",
           "ticks": "",
           "title": {
            "standoff": 15
           },
           "zerolinecolor": "white",
           "zerolinewidth": 2
          },
          "yaxis": {
           "automargin": true,
           "gridcolor": "white",
           "linecolor": "white",
           "ticks": "",
           "title": {
            "standoff": 15
           },
           "zerolinecolor": "white",
           "zerolinewidth": 2
          }
         }
        },
        "title": {
         "text": "Distribution of Sentiment Categories in Comments"
        }
       }
      }
     },
     "metadata": {},
     "output_type": "display_data"
    }
   ],
   "source": [
    "import plotly.express as px\n",
    "\n",
    "#creating piechart using plotly\n",
    "fig=px.pie(counts_df,values='Counts',names=counts_df.index,\n",
    "           labels={'Category':'Sentiment Category','Counts':'Count'},\n",
    "           title='Distribution of Sentiment Categories in Comments',\n",
    "           hole=0.3,color_discrete_sequence=px.colors.qualitative.Set1)\n",
    "\n",
    "#setting bg of chart\n",
    "fig.update_layout(paper_bgcolor='darkgrey')\n",
    "\n",
    "fig.show()\n"
   ]
  },
  {
   "cell_type": "markdown",
   "metadata": {},
   "source": [
    "<img src=\"pie.png\" alt=\"Distribution of Sentiment Categories in Comments\">\n"
   ]
  },
  {
   "cell_type": "markdown",
   "metadata": {},
   "source": [
    "POSITIVE OR NEGATIVE BIAS DETECTION"
   ]
  },
  {
   "cell_type": "code",
   "execution_count": 18,
   "metadata": {},
   "outputs": [
    {
     "name": "stdout",
     "output_type": "stream",
     "text": [
      "                       Positive  Negative      Bias Bias Direction\n",
      "subreddit                                                         \n",
      "AbruptChaos            0.170791  0.132264  0.038527       Positive\n",
      "NonCredibleDefense     0.155961  0.147808  0.008152        Neutral\n",
      "CrazyFuckingVideos     0.162982  0.168266 -0.005284        Neutral\n",
      "Palestine              0.176340  0.186609 -0.010269       Negative\n",
      "AskMiddleEast          0.166732  0.182092 -0.015360       Negative\n",
      "IsraelPalestine        0.166904  0.186300 -0.019397       Negative\n",
      "CombatFootage          0.157813  0.182511 -0.024698       Negative\n",
      "worldnews              0.160626  0.186105 -0.025479       Negative\n",
      "ActualPublicFreakouts  0.177926  0.206657 -0.028731       Negative\n",
      "worldnewsvideo         0.172257  0.205349 -0.033092       Negative\n",
      "TerrifyingAsFuck       0.167938  0.203776 -0.035839       Negative\n",
      "PublicFreakout         0.160095  0.202689 -0.042594       Negative\n",
      "IsrealPalestineWar_23  0.171626  0.220825 -0.049199       Negative\n",
      "NoahGetTheBoat         0.171286  0.241434 -0.070148       Negative\n"
     ]
    }
   ],
   "source": [
    "subreddit_sentiment=df.groupby('subreddit')[['Positive','Negative']].mean()\n",
    "#calculating difference between positive and negative sentiment scores\n",
    "subreddit_sentiment['Bias']=subreddit_sentiment['Positive']-subreddit_sentiment['Negative']\n",
    "\n",
    "#determining direction of bias:positive,negative or neutral\n",
    "def determine_bias(bias):\n",
    "    if bias>0.01:\n",
    "        return 'Positive'\n",
    "    elif bias< -0.01:\n",
    "        return 'Negative'\n",
    "    else:\n",
    "        return 'Neutral'\n",
    "\n",
    "subreddit_sentiment['Bias Direction']=subreddit_sentiment['Bias'].apply(determine_bias)\n",
    "\n",
    "most_biased_subreddits=subreddit_sentiment.sort_values(by='Bias',ascending=False)\n",
    "print(most_biased_subreddits)"
   ]
  },
  {
   "cell_type": "markdown",
   "metadata": {},
   "source": [
    "TOPIC MODELLING"
   ]
  },
  {
   "cell_type": "code",
   "execution_count": 19,
   "metadata": {},
   "outputs": [],
   "source": [
    "vectorizer=TfidfVectorizer(max_features=5000,stop_words='english')\n",
    "tfidf_matrix=vectorizer.fit_transform(df['clean_text'])\n",
    "lda_model=LatentDirichletAllocation(n_components=5,random_state=42,n_jobs=-1)\n",
    "#assuming 5 topics\n",
    "lda_topic_matrix=lda_model.fit_transform(tfidf_matrix)\n"
   ]
  },
  {
   "cell_type": "code",
   "execution_count": 20,
   "metadata": {},
   "outputs": [
    {
     "name": "stdout",
     "output_type": "stream",
     "text": [
      "Topic #1: \n",
      "hamas, palestinian, israel, people, israeli, terrorist, civilian, child, dont, palestine, support, right, genocide, war, like\n",
      "\n",
      "\n",
      "Topic #2: \n",
      "israel, land, arab, year, country, like, war, yes, time, palestinian, jew, iran, people, state, palestine\n",
      "\n",
      "\n",
      "Topic #3: \n",
      "israel, hamas, gaza, civilian, war, rocket, egypt, people, dont, palestinian, water, bomb, want, military, like\n",
      "\n",
      "\n",
      "Topic #4: \n",
      "jew, dont, people, muslim, comment, im, know, israel, like, think, thank, religion, say, youre, jewish\n",
      "\n",
      "\n",
      "Topic #5: \n",
      "video, source, like, lol, news, hospital, post, hamas, thats, look, im, evidence, know, propaganda, people\n",
      "\n",
      "\n"
     ]
    }
   ],
   "source": [
    "#getting feature names from vectorizer\n",
    "feature_names=vectorizer.get_feature_names_out()\n",
    "\n",
    "#getting top words for each topic\n",
    "n_top_words=15\n",
    "top_wordsper_topic=[]\n",
    "for topic_idx,topic in enumerate(lda_model.components_):\n",
    "    topic_words_idx=topic.argsort()[:-n_top_words-1:-1]\n",
    "    top_words=[feature_names[i] for i in topic_words_idx]\n",
    "    top_wordsper_topic.append(top_words)\n",
    "\n",
    "#displaying topics and associated top words\n",
    "for topic_idx,top_words in enumerate(top_wordsper_topic):\n",
    "    print(f\"Topic #{topic_idx+1}: \")\n",
    "    print(\", \".join(top_words))\n",
    "    print(\"\\n\")\n",
    "    "
   ]
  },
  {
   "cell_type": "code",
   "execution_count": 21,
   "metadata": {},
   "outputs": [],
   "source": [
    "#getting vocbulary indices for 'israel' and 'palestine' in vectorizer\n",
    "\n",
    "israel_word_index=vectorizer.vocabulary_['israel']\n",
    "palestine_word_index=vectorizer.vocabulary_['palestine']\n",
    "\n",
    "topic_term_distribution=lda_model.components_\n",
    "\n",
    "israel_topic_index=topic_term_distribution[:, israel_word_index].argmax()\n",
    "palestine_topic_index=topic_term_distribution[:, palestine_word_index].argmax()"
   ]
  },
  {
   "cell_type": "markdown",
   "metadata": {},
   "source": [
    "GEOPOLITICAL STANCE DETERMINATION USING DOMINNT TOPICS AND SENTIMENT SCORES."
   ]
  },
  {
   "cell_type": "code",
   "execution_count": 24,
   "metadata": {},
   "outputs": [],
   "source": [
    "#function to determine geopolitical stance\n",
    "def determine_geopolitical_stance(row):\n",
    "    sentiment_score=row['Compound']\n",
    "    topic_distribution=lda_model.transform(vectorizer.transform([row['clean_text']]))[0]\n",
    "\n",
    "    #determining stance based on sentiment score and dominant topic\n",
    "    if sentiment_score<= -0.5:\n",
    "        return \"Against Israel/Palestine\"\n",
    "    elif sentiment_score >= 0.5 and topic_distribution.argmax()==israel_topic_index:\n",
    "        return \"Supports Israel\"\n",
    "    elif sentiment_score >= 0.5 and topic_distribution.argmax()==palestine_topic_index:\n",
    "        return \"Supports Palestine\"\n",
    "    else:\n",
    "        return \"Neutral/Stance not Clear\"\n",
    "    \n",
    "#applying function to dataframe to understand geopolitical stance\n",
    "\n",
    "df['geopolitical_stance']=df.apply(determine_geopolitical_stance,axis=1)"
   ]
  },
  {
   "cell_type": "code",
   "execution_count": 25,
   "metadata": {},
   "outputs": [
    {
     "name": "stdout",
     "output_type": "stream",
     "text": [
      "Geopolitical Stance Distribution: \n",
      "Neutral/Stance not Clear    285629\n",
      "Against Israel/Palestine    123092\n",
      "Supports Palestine           15117\n",
      "Supports Israel              12887\n",
      "Name: geopolitical_stance, dtype: int64\n"
     ]
    }
   ],
   "source": [
    "stance_counts=df['geopolitical_stance'].value_counts()\n",
    "print(\"Geopolitical Stance Distribution: \")\n",
    "print(stance_counts)"
   ]
  },
  {
   "cell_type": "code",
   "execution_count": 26,
   "metadata": {},
   "outputs": [
    {
     "data": {
      "image/png": "[encoded data removed]",
      "text/plain": [
       "<Figure size 576x432 with 1 Axes>"
      ]
     },
     "metadata": {
      "needs_background": "light"
     },
     "output_type": "display_data"
    }
   ],
   "source": [
    "stance_counts=df['geopolitical_stance'].value_counts()\n",
    "\n",
    "#creating bar chart using dataframe values\n",
    "plt.figure(figsize=(8,6))\n",
    "stance_counts.plot(kind='bar',color=['blue','red','green','yellow'])\n",
    "plt.xlabel('Geopolitical Stance')\n",
    "plt.ylabel('Count')\n",
    "plt.title('Geopolitical Stance Distribution')\n",
    "plt.xticks(rotation=45)\n",
    "plt.show()"
   ]
  },
  {
   "cell_type": "markdown",
   "metadata": {},
   "source": [
    "The distribution of geopolitical stances on the Israel-Palestine issue within the dataset is as follows:\n",
    "\n",
    "Neutral/Stance Not Clear: This category comprises the majority with 286,000 instances, indicating that a significant portion of the data does not express a clear position on the Israel-Palestine issue.\n",
    "\n",
    "Against Israel/Palestine: There are 123,092 instances where the stance opposes Israel, Palestine, or both. This reflects a substantial segment of the dataset expressing negative sentiment or opposition towards the parties involved.\n",
    "\n",
    "Supports Palestine: There are 13,911 instances where the stance supports Palestine. While fewer in number compared to neutrality and opposition, this segment represents a notable portion of the dataset that favors the Palestinian side.\n",
    "\n",
    "Supports Israel: There are 13,722 instances where the stance supports Israel. Similar to supporting Palestine, this segment is smaller but significant within the dataset, indicating support for the Israeli side.\n",
    "\n",
    "INFERENCE:\n",
    "\n",
    "Neutral/Stance Not Clear: The largest group, indicating that most of the dataset does not take a definitive stance on the Israel-Palestine issue.\n",
    "\n",
    "\n",
    "Against Israel/Palestine: A substantial number of instances express opposition or negative sentiment towards Israel, Palestine, or both.\n",
    "\n",
    "\n",
    "Supports Palestine: Represents a smaller but notable segment supporting the Palestinian side.\n",
    "\n",
    "\n",
    "Supports Israel: Also a smaller but significant segment expressing support for the Israeli side.\n",
    "\n",
    "\n",
    "This breakdown underscores the diversity of opinions within the dataset regarding the Israel-Palestine conflict, with a significant portion not clearly stating a stance, and a slightly higher number leaning towards opposition compared to support for either side."
   ]
  }
 ],
 "metadata": {
  "kernelspec": {
   "display_name": "base",
   "language": "python",
   "name": "python3"
  },
  "language_info": {
   "codemirror_mode": {
    "name": "ipython",
    "version": 3
   },
   "file_extension": ".py",
   "mimetype": "text/x-python",
   "name": "python",
   "nbconvert_exporter": "python",
   "pygments_lexer": "ipython3",
   "version": "2022.10.undefined"
  }
 },
 "nbformat": 4,
 "nbformat_minor": 2
}
